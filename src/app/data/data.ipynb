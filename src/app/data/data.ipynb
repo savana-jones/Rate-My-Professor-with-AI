{
 "cells": [
  {
   "cell_type": "code",
   "execution_count": 6,
   "metadata": {},
   "outputs": [],
   "source": [
    "import firebase_admin\n",
    "from firebase_admin import credentials, firestore\n",
    "import weaviate\n",
    "from llama_index.core import VectorStoreIndex, SimpleDirectoryReader\n",
    "from IPython.display import Markdown, display\n",
    "from llama_index.vector_stores.weaviate import WeaviateVectorStore"
   ]
  },
  {
   "cell_type": "code",
   "execution_count": 2,
   "metadata": {},
   "outputs": [],
   "source": [
    "cred = credentials.Certificate(\"rate-my-professor-50aba-firebase-adminsdk-zvwp8-22c0991e41.json\")  # Replace with your Firestore service account key\n",
    "firebase_admin.initialize_app(cred)\n",
    "db = firestore.client()"
   ]
  },
  {
   "cell_type": "code",
   "execution_count": 3,
   "metadata": {},
   "outputs": [
    {
     "name": "stderr",
     "output_type": "stream",
     "text": [
      "c:\\Python312\\Lib\\site-packages\\weaviate\\__init__.py:143: DeprecationWarning: Dep010: Importing AuthApiKey from weaviate is deprecated. Import AuthApiKey from its module: weaviate.auth\n",
      "  _Warnings.root_module_import(name, map_[name])\n",
      "c:\\Python312\\Lib\\site-packages\\weaviate\\warnings.py:162: DeprecationWarning: Dep016: Python client v3 `weaviate.Client(...)` connections and methods are deprecated. Update\n",
      "            your code to use Python client v4 `weaviate.WeaviateClient` connections and methods.\n",
      "\n",
      "            For Python Client v4 usage, see: https://weaviate.io/developers/weaviate/client-libraries/python\n",
      "            For code migration, see: https://weaviate.io/developers/weaviate/client-libraries/python/v3_v4_migration\n",
      "            \n",
      "  warnings.warn(\n"
     ]
    }
   ],
   "source": [
    "client = weaviate.Client(\n",
    "    url=\"https://69w1cdbysvs5vblwcjfiqq.c0.us-east1.gcp.weaviate.cloud\", \n",
    "    auth_client_secret=weaviate.AuthApiKey(api_key = \"bCbSXLReNDNqf3WS6CeVevDnvZDAUkBB6H7s\",)\n",
    "    )"
   ]
  },
  {
   "cell_type": "code",
   "execution_count": 4,
   "metadata": {},
   "outputs": [],
   "source": [
    "def get_professors_data():\n",
    "    professors_ref = db.collection('professors')\n",
    "    docs = professors_ref.stream()\n",
    "    data = []\n",
    "    for doc in docs:\n",
    "        data.append(doc.to_dict())  # Each document is added to the list\n",
    "    return data"
   ]
  },
  {
   "cell_type": "code",
   "execution_count": 5,
   "metadata": {},
   "outputs": [],
   "source": [
    "data = get_professors_data()"
   ]
  },
  {
   "cell_type": "code",
   "execution_count": 7,
   "metadata": {},
   "outputs": [],
   "source": [
    "from llama_index.core import StorageContext\n",
    "\n",
    "vector_store = WeaviateVectorStore(\n",
    "    weaviate_client=client, index_name=\"Review\"\n",
    ")"
   ]
  },
  {
   "cell_type": "code",
   "execution_count": 12,
   "metadata": {},
   "outputs": [],
   "source": [
    "storage_context = StorageContext.from_defaults(vector_store=vector_store)"
   ]
  },
  {
   "cell_type": "code",
   "execution_count": 10,
   "metadata": {},
   "outputs": [
    {
     "name": "stdout",
     "output_type": "stream",
     "text": [
      "stores_text=True is_embedding_query=True index_name='Review' url=None text_key='text' auth_config={} client_kwargs={}\n",
      "StorageContext(docstore=<llama_index.core.storage.docstore.simple_docstore.SimpleDocumentStore object at 0x000001E3C3603020>, index_store=<llama_index.core.storage.index_store.simple_index_store.SimpleIndexStore object at 0x000001E3C36036B0>, vector_stores={'default': WeaviateVectorStore(stores_text=True, is_embedding_query=True, index_name='Review', url=None, text_key='text', auth_config={}, client_kwargs={}), 'image': SimpleVectorStore(stores_text=False, is_embedding_query=True, data=SimpleVectorStoreData(embedding_dict={}, text_id_to_ref_doc_id={}, metadata_dict={}))}, graph_store=<llama_index.core.graph_stores.simple.SimpleGraphStore object at 0x000001E3C3602E70>, property_graph_store=None)\n"
     ]
    }
   ],
   "source": [
    "print(vector_store)\n",
    "print(storage_context)"
   ]
  },
  {
   "cell_type": "code",
   "execution_count": 20,
   "metadata": {},
   "outputs": [],
   "source": [
    "from llama_index.core import Document as LlamaDocument\n",
    "\n",
    "class Document(LlamaDocument):\n",
    "    def __init__(self, text, metadata):\n",
    "        super().__init__(text=text, metadata=metadata)\n",
    "        # Convert the hash to a string for the id_\n",
    "        self.id_ = str(hash(text)) "
   ]
  },
  {
   "cell_type": "code",
   "execution_count": 26,
   "metadata": {},
   "outputs": [],
   "source": [
    "from llama_index.embeddings.huggingface import HuggingFaceEmbedding\n",
    "from llama_index.core import Settings\n",
    "\n",
    "# Configure the embedding model directly on the Settings object\n",
    "Settings.embed_model = HuggingFaceEmbedding(model_name=\"BAAI/bge-small-en-v1.5\")"
   ]
  },
  {
   "cell_type": "code",
   "execution_count": 30,
   "metadata": {},
   "outputs": [],
   "source": [
    "def create_index_from_dict(data):\n",
    "    documents = [\n",
    "        Document(\n",
    "            text=item['review'],\n",
    "            metadata={\n",
    "                'name': item['name'],\n",
    "                'specialization': item['specialization'],\n",
    "                'review': item['review']\n",
    "            }\n",
    "        )\n",
    "        for item in data\n",
    "    ]\n",
    "    \n",
    "    # Debugging: Print the documents to verify their structure\n",
    "    for doc in documents:\n",
    "        print(f'Document ID: {doc.id_}, Text: {doc.text}, Metadata: {doc.metadata}')\n",
    "    \n",
    "    return VectorStoreIndex.from_documents(documents)"
   ]
  },
  {
   "cell_type": "code",
   "execution_count": 31,
   "metadata": {},
   "outputs": [
    {
     "name": "stdout",
     "output_type": "stream",
     "text": [
      "Document ID: 8756015178825492436, Text: Teaches operating systems with great depth. Lectures are very engaging and interactive., Metadata: {'name': 'Dr. Michael Johnson', 'specialization': 'Operating Systems', 'review': 'Teaches operating systems with great depth. Lectures are very engaging and interactive.'}\n",
      "Document ID: -2742461801327301193, Text: Excellent professor for computer networks. Classes are difficult but very insightful., Metadata: {'name': 'Dr. Sarah Wilson', 'specialization': 'Computer Networks', 'review': 'Excellent professor for computer networks. Classes are difficult but very insightful.'}\n",
      "Document ID: -1692536283392036, Text: Her data structures course is well-organized. She’s always willing to help students outside class., Metadata: {'name': 'Dr. Karen Thompson', 'specialization': 'Data Structures', 'review': 'Her data structures course is well-organized. She’s always willing to help students outside class.'}\n",
      "Document ID: -785108643325655933, Text: Great at explaining complex algorithms in simple terms. Provides excellent feedback on assignments., Metadata: {'name': 'Dr. Alex Grey', 'specialization': 'Algorithms', 'review': 'Great at explaining complex algorithms in simple terms. Provides excellent feedback on assignments.'}\n",
      "Document ID: 3748662150215185775, Text: Very passionate about artificial intelligence. His projects really prepare you for the industry., Metadata: {'name': 'Dr. James Lee', 'specialization': 'Artificial Intelligence', 'review': 'Very passionate about artificial intelligence. His projects really prepare you for the industry.'}\n",
      "Document ID: -1129760689444038298, Text: Explains software engineering concepts clearly. The group projects are well-structured and useful., Metadata: {'name': 'Dr. Robert Brown', 'specialization': 'Software Engineering', 'review': 'Explains software engineering concepts clearly. The group projects are well-structured and useful.'}\n",
      "Document ID: -6909437854618399758, Text: Her deep learning class is a must-take! Very approachable and thorough in her teaching., Metadata: {'name': 'Dr. Emily Davis', 'specialization': 'Deep Learning', 'review': 'Her deep learning class is a must-take! Very approachable and thorough in her teaching.'}\n",
      "Document ID: -7108498906913612203, Text: Dr. Smith is highly knowledgeable in machine learning and AI. Her courses are challenging but rewarding. , Metadata: {'name': 'Dr. Alice Smith', 'specialization': 'Machine Learning', 'review': 'Dr. Smith is highly knowledgeable in machine learning and AI. Her courses are challenging but rewarding. '}\n",
      "Document ID: -8110722038762940755, Text: Great for beginners in programming. Makes sure everyone in class is keeping up with the material., Metadata: {'name': 'Dr. Daniel Martinez', 'specialization': 'Programming', 'review': 'Great for beginners in programming. Makes sure everyone in class is keeping up with the material.'}\n",
      "Document ID: -7261657174635906752, Text: Her cybersecurity class is top-notch. She brings real-world examples to the classroom., Metadata: {'name': 'Dr. Laura Hernandez', 'specialization': 'Cybersecurity', 'review': 'Her cybersecurity class is top-notch. She brings real-world examples to the classroom.'}\n"
     ]
    }
   ],
   "source": [
    "index = create_index_from_dict(data)"
   ]
  },
  {
   "cell_type": "code",
   "execution_count": 36,
   "metadata": {},
   "outputs": [],
   "source": [
    "from llama_index.llms.openrouter import OpenRouter\n",
    "\n",
    "# Initialize OpenRouter with your API key\n",
    "llm = OpenRouter(api_key=\"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\", max_tokens=256, context_window=4096, model=\"meta-llama/llama-3-8b-instruct:free\")"
   ]
  },
  {
   "cell_type": "code",
   "execution_count": 37,
   "metadata": {},
   "outputs": [
    {
     "name": "stdout",
     "output_type": "stream",
     "text": [
      "Dr. James Lee is a professor who is very passionate about artificial intelligence. His projects are designed to prepare students for the industry.\n"
     ]
    }
   ],
   "source": [
    "\n",
    "query_engine = index.as_query_engine(llm=llm)\n",
    "\n",
    "# Now you can query the engine\n",
    "response = query_engine.query(\"Tell me about a professor who specializes in AI.\")\n",
    "print(response)"
   ]
  },
  {
   "cell_type": "code",
   "execution_count": 38,
   "metadata": {},
   "outputs": [
    {
     "data": {
      "text/markdown": [
       "Dr. James Lee is a professor who is very passionate about artificial intelligence. His projects are designed to prepare students for the industry."
      ],
      "text/plain": [
       "<IPython.core.display.Markdown object>"
      ]
     },
     "metadata": {},
     "output_type": "display_data"
    }
   ],
   "source": [
    "display(Markdown(f\"{response}\"))"
   ]
  }
 ],
 "metadata": {
  "kernelspec": {
   "display_name": "Python 3",
   "language": "python",
   "name": "python3"
  },
  "language_info": {
   "codemirror_mode": {
    "name": "ipython",
    "version": 3
   },
   "file_extension": ".py",
   "mimetype": "text/x-python",
   "name": "python",
   "nbconvert_exporter": "python",
   "pygments_lexer": "ipython3",
   "version": "3.12.4"
  }
 },
 "nbformat": 4,
 "nbformat_minor": 2
}
